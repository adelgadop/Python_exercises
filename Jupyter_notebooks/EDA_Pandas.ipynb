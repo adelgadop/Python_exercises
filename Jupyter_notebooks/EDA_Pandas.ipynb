{
 "cells": [
  {
   "cell_type": "code",
   "execution_count": 1,
   "id": "03745f0e",
   "metadata": {},
   "outputs": [],
   "source": [
    "import pandas as pd\n",
    "import numpy as np"
   ]
  },
  {
   "cell_type": "markdown",
   "id": "783483b6",
   "metadata": {},
   "source": [
    "# We build a Dataframe file "
   ]
  },
  {
   "cell_type": "code",
   "execution_count": 2,
   "id": "eed77bb0",
   "metadata": {},
   "outputs": [],
   "source": [
    "df = pd.DataFrame({\n",
    "    \"Student\" : [\"Mike\", \"Jack\", \"Diana\", \"Charles\", \"Philipp\", \"Charles\", \"Kale\", \"Jack\"],\n",
    "    \"City\" : [\"London\", \"London\", \"Berlin\", \"London\", \"London\", \"Berlin\", \"London\", \"Berlin\"],\n",
    "    \"Age\" : [20, 40, 18, 24, 37, 40, 44, 20 ],\n",
    "    \"Maths_Score\" : [84, 80, 50, 36, 44, 24, 41, 35],\n",
    "    \"Science_Score\" : [66, 83, 51, 35, 43, 58, 71, 65]\n",
    "})"
   ]
  },
  {
   "cell_type": "code",
   "execution_count": 4,
   "id": "bcff6ce3",
   "metadata": {},
   "outputs": [
    {
     "data": {
      "text/plain": [
       "<pandas.core.groupby.generic.DataFrameGroupBy object at 0x7ff0d9e0b850>"
      ]
     },
     "execution_count": 4,
     "metadata": {},
     "output_type": "execute_result"
    }
   ],
   "source": [
    "df_city_group = df.groupby(\"City\")\n",
    "df_city_group"
   ]
  },
  {
   "cell_type": "code",
   "execution_count": 5,
   "id": "8118c35a",
   "metadata": {},
   "outputs": [
    {
     "data": {
      "text/html": [
       "<div>\n",
       "<style scoped>\n",
       "    .dataframe tbody tr th:only-of-type {\n",
       "        vertical-align: middle;\n",
       "    }\n",
       "\n",
       "    .dataframe tbody tr th {\n",
       "        vertical-align: top;\n",
       "    }\n",
       "\n",
       "    .dataframe thead th {\n",
       "        text-align: right;\n",
       "    }\n",
       "</style>\n",
       "<table border=\"1\" class=\"dataframe\">\n",
       "  <thead>\n",
       "    <tr style=\"text-align: right;\">\n",
       "      <th></th>\n",
       "      <th>Age</th>\n",
       "      <th>Maths_Score</th>\n",
       "      <th>Science_Score</th>\n",
       "    </tr>\n",
       "    <tr>\n",
       "      <th>City</th>\n",
       "      <th></th>\n",
       "      <th></th>\n",
       "      <th></th>\n",
       "    </tr>\n",
       "  </thead>\n",
       "  <tbody>\n",
       "    <tr>\n",
       "      <th>Berlin</th>\n",
       "      <td>26.0</td>\n",
       "      <td>36.333333</td>\n",
       "      <td>58.0</td>\n",
       "    </tr>\n",
       "    <tr>\n",
       "      <th>London</th>\n",
       "      <td>33.0</td>\n",
       "      <td>57.000000</td>\n",
       "      <td>59.6</td>\n",
       "    </tr>\n",
       "  </tbody>\n",
       "</table>\n",
       "</div>"
      ],
      "text/plain": [
       "         Age  Maths_Score  Science_Score\n",
       "City                                    \n",
       "Berlin  26.0    36.333333           58.0\n",
       "London  33.0    57.000000           59.6"
      ]
     },
     "execution_count": 5,
     "metadata": {},
     "output_type": "execute_result"
    }
   ],
   "source": [
    "df_city_group.mean()"
   ]
  },
  {
   "cell_type": "markdown",
   "id": "ca6740f8",
   "metadata": {},
   "source": [
    "We use `.get_group` to extract the city from the group:"
   ]
  },
  {
   "cell_type": "code",
   "execution_count": 6,
   "id": "fb1351d6",
   "metadata": {},
   "outputs": [
    {
     "data": {
      "text/html": [
       "<div>\n",
       "<style scoped>\n",
       "    .dataframe tbody tr th:only-of-type {\n",
       "        vertical-align: middle;\n",
       "    }\n",
       "\n",
       "    .dataframe tbody tr th {\n",
       "        vertical-align: top;\n",
       "    }\n",
       "\n",
       "    .dataframe thead th {\n",
       "        text-align: right;\n",
       "    }\n",
       "</style>\n",
       "<table border=\"1\" class=\"dataframe\">\n",
       "  <thead>\n",
       "    <tr style=\"text-align: right;\">\n",
       "      <th></th>\n",
       "      <th>Student</th>\n",
       "      <th>City</th>\n",
       "      <th>Age</th>\n",
       "      <th>Maths_Score</th>\n",
       "      <th>Science_Score</th>\n",
       "    </tr>\n",
       "  </thead>\n",
       "  <tbody>\n",
       "    <tr>\n",
       "      <th>2</th>\n",
       "      <td>Diana</td>\n",
       "      <td>Berlin</td>\n",
       "      <td>18</td>\n",
       "      <td>50</td>\n",
       "      <td>51</td>\n",
       "    </tr>\n",
       "    <tr>\n",
       "      <th>5</th>\n",
       "      <td>Charles</td>\n",
       "      <td>Berlin</td>\n",
       "      <td>40</td>\n",
       "      <td>24</td>\n",
       "      <td>58</td>\n",
       "    </tr>\n",
       "    <tr>\n",
       "      <th>7</th>\n",
       "      <td>Jack</td>\n",
       "      <td>Berlin</td>\n",
       "      <td>20</td>\n",
       "      <td>35</td>\n",
       "      <td>65</td>\n",
       "    </tr>\n",
       "  </tbody>\n",
       "</table>\n",
       "</div>"
      ],
      "text/plain": [
       "   Student    City  Age  Maths_Score  Science_Score\n",
       "2    Diana  Berlin   18           50             51\n",
       "5  Charles  Berlin   40           24             58\n",
       "7     Jack  Berlin   20           35             65"
      ]
     },
     "execution_count": 6,
     "metadata": {},
     "output_type": "execute_result"
    }
   ],
   "source": [
    "df_city_group.get_group(\"Berlin\")"
   ]
  },
  {
   "cell_type": "markdown",
   "id": "761f9bf6",
   "metadata": {},
   "source": [
    "It's more efficiently call the city from the group, see the time:"
   ]
  },
  {
   "cell_type": "code",
   "execution_count": 8,
   "id": "af0d187c",
   "metadata": {},
   "outputs": [
    {
     "name": "stdout",
     "output_type": "stream",
     "text": [
      "148 µs ± 912 ns per loop (mean ± std. dev. of 7 runs, 10000 loops each)\n"
     ]
    }
   ],
   "source": [
    "%%timeit\n",
    "df[df['City']=='Berlin']"
   ]
  },
  {
   "cell_type": "code",
   "execution_count": 9,
   "id": "3be5f691",
   "metadata": {},
   "outputs": [
    {
     "name": "stdout",
     "output_type": "stream",
     "text": [
      "68.1 µs ± 382 ns per loop (mean ± std. dev. of 7 runs, 10000 loops each)\n"
     ]
    }
   ],
   "source": [
    "%%timeit\n",
    "df_city_group.get_group(\"Berlin\")"
   ]
  },
  {
   "cell_type": "markdown",
   "id": "78446daa",
   "metadata": {},
   "source": [
    "# Top 3 best and worst students"
   ]
  },
  {
   "cell_type": "markdown",
   "id": "5f546aa9",
   "metadata": {},
   "source": [
    "We want to know the best students in Math, so we use `.nlargest` after the dataframe file name:"
   ]
  },
  {
   "cell_type": "code",
   "execution_count": 11,
   "id": "cd534c8f",
   "metadata": {},
   "outputs": [
    {
     "data": {
      "text/html": [
       "<div>\n",
       "<style scoped>\n",
       "    .dataframe tbody tr th:only-of-type {\n",
       "        vertical-align: middle;\n",
       "    }\n",
       "\n",
       "    .dataframe tbody tr th {\n",
       "        vertical-align: top;\n",
       "    }\n",
       "\n",
       "    .dataframe thead th {\n",
       "        text-align: right;\n",
       "    }\n",
       "</style>\n",
       "<table border=\"1\" class=\"dataframe\">\n",
       "  <thead>\n",
       "    <tr style=\"text-align: right;\">\n",
       "      <th></th>\n",
       "      <th>Student</th>\n",
       "      <th>City</th>\n",
       "      <th>Age</th>\n",
       "      <th>Maths_Score</th>\n",
       "      <th>Science_Score</th>\n",
       "    </tr>\n",
       "  </thead>\n",
       "  <tbody>\n",
       "    <tr>\n",
       "      <th>0</th>\n",
       "      <td>Mike</td>\n",
       "      <td>London</td>\n",
       "      <td>20</td>\n",
       "      <td>84</td>\n",
       "      <td>66</td>\n",
       "    </tr>\n",
       "    <tr>\n",
       "      <th>1</th>\n",
       "      <td>Jack</td>\n",
       "      <td>London</td>\n",
       "      <td>40</td>\n",
       "      <td>80</td>\n",
       "      <td>83</td>\n",
       "    </tr>\n",
       "    <tr>\n",
       "      <th>2</th>\n",
       "      <td>Diana</td>\n",
       "      <td>Berlin</td>\n",
       "      <td>18</td>\n",
       "      <td>50</td>\n",
       "      <td>51</td>\n",
       "    </tr>\n",
       "  </tbody>\n",
       "</table>\n",
       "</div>"
      ],
      "text/plain": [
       "  Student    City  Age  Maths_Score  Science_Score\n",
       "0    Mike  London   20           84             66\n",
       "1    Jack  London   40           80             83\n",
       "2   Diana  Berlin   18           50             51"
      ]
     },
     "execution_count": 11,
     "metadata": {},
     "output_type": "execute_result"
    }
   ],
   "source": [
    "df_top3_maths = df.nlargest(3, \"Maths_Score\")\n",
    "df_top3_maths"
   ]
  },
  {
   "cell_type": "code",
   "execution_count": 12,
   "id": "b867353f",
   "metadata": {},
   "outputs": [
    {
     "data": {
      "text/html": [
       "<div>\n",
       "<style scoped>\n",
       "    .dataframe tbody tr th:only-of-type {\n",
       "        vertical-align: middle;\n",
       "    }\n",
       "\n",
       "    .dataframe tbody tr th {\n",
       "        vertical-align: top;\n",
       "    }\n",
       "\n",
       "    .dataframe thead th {\n",
       "        text-align: right;\n",
       "    }\n",
       "</style>\n",
       "<table border=\"1\" class=\"dataframe\">\n",
       "  <thead>\n",
       "    <tr style=\"text-align: right;\">\n",
       "      <th></th>\n",
       "      <th>Student</th>\n",
       "      <th>City</th>\n",
       "      <th>Age</th>\n",
       "      <th>Maths_Score</th>\n",
       "      <th>Science_Score</th>\n",
       "    </tr>\n",
       "  </thead>\n",
       "  <tbody>\n",
       "    <tr>\n",
       "      <th>5</th>\n",
       "      <td>Charles</td>\n",
       "      <td>Berlin</td>\n",
       "      <td>40</td>\n",
       "      <td>24</td>\n",
       "      <td>58</td>\n",
       "    </tr>\n",
       "    <tr>\n",
       "      <th>7</th>\n",
       "      <td>Jack</td>\n",
       "      <td>Berlin</td>\n",
       "      <td>20</td>\n",
       "      <td>35</td>\n",
       "      <td>65</td>\n",
       "    </tr>\n",
       "    <tr>\n",
       "      <th>3</th>\n",
       "      <td>Charles</td>\n",
       "      <td>London</td>\n",
       "      <td>24</td>\n",
       "      <td>36</td>\n",
       "      <td>35</td>\n",
       "    </tr>\n",
       "  </tbody>\n",
       "</table>\n",
       "</div>"
      ],
      "text/plain": [
       "   Student    City  Age  Maths_Score  Science_Score\n",
       "5  Charles  Berlin   40           24             58\n",
       "7     Jack  Berlin   20           35             65\n",
       "3  Charles  London   24           36             35"
      ]
     },
     "execution_count": 12,
     "metadata": {},
     "output_type": "execute_result"
    }
   ],
   "source": [
    "df_bottom3_maths = df.nsmallest(3, \"Maths_Score\")\n",
    "df_bottom3_maths"
   ]
  },
  {
   "cell_type": "markdown",
   "id": "7cdf311a",
   "metadata": {},
   "source": [
    "However, it's better to use `.sort_values()` as was mentioned by other Python users:"
   ]
  },
  {
   "cell_type": "code",
   "execution_count": 13,
   "id": "42550934",
   "metadata": {},
   "outputs": [
    {
     "name": "stdout",
     "output_type": "stream",
     "text": [
      "102 µs ± 1.2 µs per loop (mean ± std. dev. of 7 runs, 10000 loops each)\n"
     ]
    }
   ],
   "source": [
    "%%timeit\n",
    "df1 = df.sort_values(by=['Maths_Score'], ascending = False).head(3)"
   ]
  },
  {
   "cell_type": "code",
   "execution_count": 14,
   "id": "fc865778",
   "metadata": {},
   "outputs": [
    {
     "name": "stdout",
     "output_type": "stream",
     "text": [
      "288 µs ± 3.65 µs per loop (mean ± std. dev. of 7 runs, 1000 loops each)\n"
     ]
    }
   ],
   "source": [
    "%%timeit\n",
    "df1 = df.nlargest(3, \"Maths_Score\")"
   ]
  },
  {
   "cell_type": "markdown",
   "id": "563de9a2",
   "metadata": {},
   "source": [
    "# Comparisons"
   ]
  },
  {
   "cell_type": "code",
   "execution_count": 15,
   "id": "40462cda",
   "metadata": {},
   "outputs": [],
   "source": [
    "# 1. Comparing the DataFrame to a base value\n",
    "# Selecting the columns with numerical values only\n",
    "df.iloc[:,2:5].gt(50)\n",
    "df.iloc[:,2:5].lt(50)\n",
    "\n",
    "# 2. Slicing the DataFrame based on comparison\n",
    "# df1 is subset of df when values in \"Maths_Score\" column are not equal or equal to '35'\n",
    "df1 = df[df[\"Maths_Score\"].ne(35)]\n",
    "df2 = df[df[\"Maths_Score\"].eq(35)]\n",
    "\n",
    "# 3. Creating new column of True-False values by comparing two columns\n",
    "df[\"Maths_Student\"] = df[\"Maths_Score\"].ge(df[\"Science_Score\"])\n",
    "df[\"Maths_Student_1\"] = df[\"Science_Score\"].le(df[\"Maths_Score\"])"
   ]
  },
  {
   "cell_type": "code",
   "execution_count": 19,
   "id": "66275643",
   "metadata": {},
   "outputs": [
    {
     "data": {
      "text/html": [
       "<div>\n",
       "<style scoped>\n",
       "    .dataframe tbody tr th:only-of-type {\n",
       "        vertical-align: middle;\n",
       "    }\n",
       "\n",
       "    .dataframe tbody tr th {\n",
       "        vertical-align: top;\n",
       "    }\n",
       "\n",
       "    .dataframe thead th {\n",
       "        text-align: right;\n",
       "    }\n",
       "</style>\n",
       "<table border=\"1\" class=\"dataframe\">\n",
       "  <thead>\n",
       "    <tr style=\"text-align: right;\">\n",
       "      <th></th>\n",
       "      <th>Student</th>\n",
       "      <th>City</th>\n",
       "      <th>Age</th>\n",
       "      <th>Maths_Score</th>\n",
       "      <th>Science_Score</th>\n",
       "    </tr>\n",
       "  </thead>\n",
       "  <tbody>\n",
       "    <tr>\n",
       "      <th>0</th>\n",
       "      <td>Mike</td>\n",
       "      <td>London</td>\n",
       "      <td>20</td>\n",
       "      <td>84</td>\n",
       "      <td>66</td>\n",
       "    </tr>\n",
       "    <tr>\n",
       "      <th>1</th>\n",
       "      <td>Jack</td>\n",
       "      <td>London</td>\n",
       "      <td>40</td>\n",
       "      <td>80</td>\n",
       "      <td>83</td>\n",
       "    </tr>\n",
       "    <tr>\n",
       "      <th>2</th>\n",
       "      <td>Diana</td>\n",
       "      <td>Berlin</td>\n",
       "      <td>18</td>\n",
       "      <td>50</td>\n",
       "      <td>51</td>\n",
       "    </tr>\n",
       "    <tr>\n",
       "      <th>3</th>\n",
       "      <td>Charles</td>\n",
       "      <td>London</td>\n",
       "      <td>24</td>\n",
       "      <td>36</td>\n",
       "      <td>35</td>\n",
       "    </tr>\n",
       "    <tr>\n",
       "      <th>4</th>\n",
       "      <td>Philipp</td>\n",
       "      <td>London</td>\n",
       "      <td>37</td>\n",
       "      <td>44</td>\n",
       "      <td>43</td>\n",
       "    </tr>\n",
       "    <tr>\n",
       "      <th>5</th>\n",
       "      <td>Charles</td>\n",
       "      <td>Berlin</td>\n",
       "      <td>40</td>\n",
       "      <td>24</td>\n",
       "      <td>58</td>\n",
       "    </tr>\n",
       "    <tr>\n",
       "      <th>6</th>\n",
       "      <td>Kale</td>\n",
       "      <td>London</td>\n",
       "      <td>44</td>\n",
       "      <td>41</td>\n",
       "      <td>71</td>\n",
       "    </tr>\n",
       "  </tbody>\n",
       "</table>\n",
       "</div>"
      ],
      "text/plain": [
       "   Student    City  Age  Maths_Score  Science_Score\n",
       "0     Mike  London   20           84             66\n",
       "1     Jack  London   40           80             83\n",
       "2    Diana  Berlin   18           50             51\n",
       "3  Charles  London   24           36             35\n",
       "4  Philipp  London   37           44             43\n",
       "5  Charles  Berlin   40           24             58\n",
       "6     Kale  London   44           41             71"
      ]
     },
     "metadata": {},
     "output_type": "display_data"
    },
    {
     "data": {
      "text/html": [
       "<div>\n",
       "<style scoped>\n",
       "    .dataframe tbody tr th:only-of-type {\n",
       "        vertical-align: middle;\n",
       "    }\n",
       "\n",
       "    .dataframe tbody tr th {\n",
       "        vertical-align: top;\n",
       "    }\n",
       "\n",
       "    .dataframe thead th {\n",
       "        text-align: right;\n",
       "    }\n",
       "</style>\n",
       "<table border=\"1\" class=\"dataframe\">\n",
       "  <thead>\n",
       "    <tr style=\"text-align: right;\">\n",
       "      <th></th>\n",
       "      <th>Student</th>\n",
       "      <th>City</th>\n",
       "      <th>Age</th>\n",
       "      <th>Maths_Score</th>\n",
       "      <th>Science_Score</th>\n",
       "    </tr>\n",
       "  </thead>\n",
       "  <tbody>\n",
       "    <tr>\n",
       "      <th>7</th>\n",
       "      <td>Jack</td>\n",
       "      <td>Berlin</td>\n",
       "      <td>20</td>\n",
       "      <td>35</td>\n",
       "      <td>65</td>\n",
       "    </tr>\n",
       "  </tbody>\n",
       "</table>\n",
       "</div>"
      ],
      "text/plain": [
       "  Student    City  Age  Maths_Score  Science_Score\n",
       "7    Jack  Berlin   20           35             65"
      ]
     },
     "metadata": {},
     "output_type": "display_data"
    },
    {
     "data": {
      "text/html": [
       "<div>\n",
       "<style scoped>\n",
       "    .dataframe tbody tr th:only-of-type {\n",
       "        vertical-align: middle;\n",
       "    }\n",
       "\n",
       "    .dataframe tbody tr th {\n",
       "        vertical-align: top;\n",
       "    }\n",
       "\n",
       "    .dataframe thead th {\n",
       "        text-align: right;\n",
       "    }\n",
       "</style>\n",
       "<table border=\"1\" class=\"dataframe\">\n",
       "  <thead>\n",
       "    <tr style=\"text-align: right;\">\n",
       "      <th></th>\n",
       "      <th>Student</th>\n",
       "      <th>City</th>\n",
       "      <th>Age</th>\n",
       "      <th>Maths_Score</th>\n",
       "      <th>Science_Score</th>\n",
       "      <th>Maths_Student</th>\n",
       "      <th>Maths_Student_1</th>\n",
       "    </tr>\n",
       "  </thead>\n",
       "  <tbody>\n",
       "    <tr>\n",
       "      <th>0</th>\n",
       "      <td>Mike</td>\n",
       "      <td>London</td>\n",
       "      <td>20</td>\n",
       "      <td>84</td>\n",
       "      <td>66</td>\n",
       "      <td>True</td>\n",
       "      <td>True</td>\n",
       "    </tr>\n",
       "    <tr>\n",
       "      <th>1</th>\n",
       "      <td>Jack</td>\n",
       "      <td>London</td>\n",
       "      <td>40</td>\n",
       "      <td>80</td>\n",
       "      <td>83</td>\n",
       "      <td>False</td>\n",
       "      <td>False</td>\n",
       "    </tr>\n",
       "    <tr>\n",
       "      <th>2</th>\n",
       "      <td>Diana</td>\n",
       "      <td>Berlin</td>\n",
       "      <td>18</td>\n",
       "      <td>50</td>\n",
       "      <td>51</td>\n",
       "      <td>False</td>\n",
       "      <td>False</td>\n",
       "    </tr>\n",
       "    <tr>\n",
       "      <th>3</th>\n",
       "      <td>Charles</td>\n",
       "      <td>London</td>\n",
       "      <td>24</td>\n",
       "      <td>36</td>\n",
       "      <td>35</td>\n",
       "      <td>True</td>\n",
       "      <td>True</td>\n",
       "    </tr>\n",
       "    <tr>\n",
       "      <th>4</th>\n",
       "      <td>Philipp</td>\n",
       "      <td>London</td>\n",
       "      <td>37</td>\n",
       "      <td>44</td>\n",
       "      <td>43</td>\n",
       "      <td>True</td>\n",
       "      <td>True</td>\n",
       "    </tr>\n",
       "    <tr>\n",
       "      <th>5</th>\n",
       "      <td>Charles</td>\n",
       "      <td>Berlin</td>\n",
       "      <td>40</td>\n",
       "      <td>24</td>\n",
       "      <td>58</td>\n",
       "      <td>False</td>\n",
       "      <td>False</td>\n",
       "    </tr>\n",
       "    <tr>\n",
       "      <th>6</th>\n",
       "      <td>Kale</td>\n",
       "      <td>London</td>\n",
       "      <td>44</td>\n",
       "      <td>41</td>\n",
       "      <td>71</td>\n",
       "      <td>False</td>\n",
       "      <td>False</td>\n",
       "    </tr>\n",
       "    <tr>\n",
       "      <th>7</th>\n",
       "      <td>Jack</td>\n",
       "      <td>Berlin</td>\n",
       "      <td>20</td>\n",
       "      <td>35</td>\n",
       "      <td>65</td>\n",
       "      <td>False</td>\n",
       "      <td>False</td>\n",
       "    </tr>\n",
       "  </tbody>\n",
       "</table>\n",
       "</div>"
      ],
      "text/plain": [
       "   Student    City  Age  Maths_Score  Science_Score  Maths_Student  \\\n",
       "0     Mike  London   20           84             66           True   \n",
       "1     Jack  London   40           80             83          False   \n",
       "2    Diana  Berlin   18           50             51          False   \n",
       "3  Charles  London   24           36             35           True   \n",
       "4  Philipp  London   37           44             43           True   \n",
       "5  Charles  Berlin   40           24             58          False   \n",
       "6     Kale  London   44           41             71          False   \n",
       "7     Jack  Berlin   20           35             65          False   \n",
       "\n",
       "   Maths_Student_1  \n",
       "0             True  \n",
       "1            False  \n",
       "2            False  \n",
       "3             True  \n",
       "4             True  \n",
       "5            False  \n",
       "6            False  \n",
       "7            False  "
      ]
     },
     "metadata": {},
     "output_type": "display_data"
    }
   ],
   "source": [
    "display(df1, df2, df)"
   ]
  },
  {
   "cell_type": "code",
   "execution_count": null,
   "id": "fb318f80",
   "metadata": {},
   "outputs": [],
   "source": []
  }
 ],
 "metadata": {
  "kernelspec": {
   "display_name": "Python 3",
   "language": "python",
   "name": "python3"
  },
  "language_info": {
   "codemirror_mode": {
    "name": "ipython",
    "version": 3
   },
   "file_extension": ".py",
   "mimetype": "text/x-python",
   "name": "python",
   "nbconvert_exporter": "python",
   "pygments_lexer": "ipython3",
   "version": "3.8.8"
  }
 },
 "nbformat": 4,
 "nbformat_minor": 5
}
